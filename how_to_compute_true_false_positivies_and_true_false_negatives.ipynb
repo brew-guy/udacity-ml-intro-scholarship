{
 "cells": [
  {
   "cell_type": "markdown",
   "metadata": {},
   "source": [
    "<h1>How to compute true/false positives and true/false negatives</h1>\n",
    "From https://github.com/jeremykawahara/tutorials by Jeremy Kawahara"
   ]
  },
  {
   "cell_type": "markdown",
   "metadata": {},
   "source": [
    "Here's how to compute true/false positives and true/false negatives in Python using Numpy. This works for a binary classification problem."
   ]
  },
  {
   "cell_type": "code",
   "execution_count": 1,
   "metadata": {
    "collapsed": false
   },
   "outputs": [],
   "source": [
    "# Use the numpy library.\n",
    "import numpy as np"
   ]
  },
  {
   "cell_type": "markdown",
   "metadata": {},
   "source": [
    "<h2>The scenario</h2>"
   ]
  },
  {
   "cell_type": "code",
   "execution_count": 2,
   "metadata": {
    "collapsed": false
   },
   "outputs": [
    {
     "name": "stdout",
     "output_type": "stream",
     "text": [
      "pred labels:\t\t[0 1 1 0 1 0 0]\n",
      "true labels:\t\t[0 0 1 0 0 1 0]\n"
     ]
    }
   ],
   "source": [
    "# Let's set the labels as: positive = 1, and negative = 0\n",
    "# So if we have 3 labels set to [0,1,0], this indicates, [negative_class, positive_class, negative_class]\n",
    "# This assumes are are working with a binary classification problem!\n",
    "\n",
    "# These are the labels we predicted.\n",
    "pred_labels = np.asarray([0,1,1,0,1,0,0])\n",
    "print 'pred labels:\\t\\t', pred_labels\n",
    "\n",
    "# These are the true labels.\n",
    "true_labels = np.asarray([0,0,1,0,0,1,0])\n",
    "print 'true labels:\\t\\t', true_labels"
   ]
  },
  {
   "cell_type": "markdown",
   "metadata": {},
   "source": [
    "<h2>The quick code</h2>"
   ]
  },
  {
   "cell_type": "markdown",
   "metadata": {},
   "source": [
    "Here's the quick way to compute true/false positives and true/false negatives.\n",
    "\n",
    "Basically ...\n",
    "- we find the predicted and true labels that are assigned to some specific class\n",
    "- then we use the \"AND\" operator to combine the results of the two label vectors into a single binary vector\n",
    "- then we sum over the binary vector to count how many incidences there are"
   ]
  },
  {
   "cell_type": "code",
   "execution_count": 3,
   "metadata": {
    "collapsed": false
   },
   "outputs": [
    {
     "name": "stdout",
     "output_type": "stream",
     "text": [
      "TP: 1, FP: 2, TN: 3, FN: 1\n"
     ]
    }
   ],
   "source": [
    "# True Positive (TP): we predict a label of 1 (positive), and the true label is 1.\n",
    "TP = np.sum(np.logical_and(pred_labels == 1, true_labels == 1))\n",
    "\n",
    "# True Negative (TN): we predict a label of 0 (negative), and the true label is 0.\n",
    "TN = np.sum(np.logical_and(pred_labels == 0, true_labels == 0))\n",
    "\n",
    "# False Positive (FP): we predict a label of 1 (positive), but the true label is 0.\n",
    "FP = np.sum(np.logical_and(pred_labels == 1, true_labels == 0))\n",
    "\n",
    "# False Negative (FN): we predict a label of 0 (negative), but the true label is 1.\n",
    "FN = np.sum(np.logical_and(pred_labels == 0, true_labels == 1))\n",
    "\n",
    "print 'TP: %i, FP: %i, TN: %i, FN: %i' % (TP,FP,TN,FN)"
   ]
  },
  {
   "cell_type": "markdown",
   "metadata": {},
   "source": [
    "That's it! You can stop here if you want.\n",
    "\n",
    "If the above does not make sense to you, keep reading on. \n",
    "We will break down the above code into sevaral different lines to more clearly explain how to compute these numbers."
   ]
  },
  {
   "cell_type": "markdown",
   "metadata": {},
   "source": [
    "For a sanity check, let's check the confusion matrix as these numbers should match what we computed."
   ]
  },
  {
   "cell_type": "code",
   "execution_count": 13,
   "metadata": {
    "collapsed": false
   },
   "outputs": [],
   "source": [
    "from sklearn.metrics import confusion_matrix"
   ]
  },
  {
   "cell_type": "code",
   "execution_count": 14,
   "metadata": {
    "collapsed": false
   },
   "outputs": [
    {
     "name": "stdout",
     "output_type": "stream",
     "text": [
      "[[3 2]\n",
      " [1 1]]\n",
      "[[TN,FP]\n",
      "[[FN,TP]]\n"
     ]
    }
   ],
   "source": [
    "print confusion_matrix(true_labels, pred_labels)\n",
    "print '[[TN,FP]'\n",
    "print '[[FN,TP]]'"
   ]
  },
  {
   "cell_type": "markdown",
   "metadata": {},
   "source": [
    "Good! Things seem to match."
   ]
  },
  {
   "cell_type": "markdown",
   "metadata": {},
   "source": [
    "<h2>A more detailed explanation</h2>"
   ]
  },
  {
   "cell_type": "code",
   "execution_count": 64,
   "metadata": {
    "collapsed": false
   },
   "outputs": [
    {
     "name": "stdout",
     "output_type": "stream",
     "text": [
      "pred_labels_pos:\t[0 1 1 0 1 0 0]\n",
      "true_labels_pos:\t[0 0 1 0 0 1 0]\n",
      "    AND operation\t-------\n",
      "pred_pos_AND_true_pos:\t[0 0 1 0 0 0 0]\n",
      "TP:  1\n"
     ]
    }
   ],
   "source": [
    "# Let's start with True Positives.\n",
    "# TP = we predicted a label of 1, and the true label is 1.\n",
    "\n",
    "# So let's get all the cases where the predicted labels are positive (i.e., 1)\n",
    "pred_labels_pos = pred_labels == 1\n",
    "# Convert from True/False to 1/0\n",
    "pred_labels_pos = pred_labels_pos.astype(np.int)\n",
    "print 'pred_labels_pos:\\t', pred_labels_pos \n",
    "\n",
    "# Now let's get all the cases where the true labels are also 1.\n",
    "true_labels_pos = true_labels == 1\n",
    "true_labels_pos = true_labels_pos.astype(np.int)\n",
    "print 'true_labels_pos:\\t', true_labels_pos\n",
    "print '    AND operation\\t-------'\n",
    "\n",
    "# Now we get the cases where the pred_labels and true_labels are both positive (indicated with a '1')\n",
    "# To do so, we can use the logical AND operation.\n",
    "pred_pos_AND_true_pos = np.logical_and(pred_labels_pos, true_labels_pos)\n",
    "pred_pos_AND_true_pos = pred_pos_AND_true_pos.astype(np.int)\n",
    "print 'pred_pos_AND_true_pos:\\t', pred_pos_AND_true_pos\n",
    "\n",
    "\n",
    "# We now have indicated all the true positives with a 1. \n",
    "# To compute the number of true positives, we can just sum over the array.\n",
    "TP = np.sum(pred_pos_AND_true_pos)\n",
    "print 'TP: ', TP "
   ]
  },
  {
   "cell_type": "code",
   "execution_count": 66,
   "metadata": {
    "collapsed": false
   },
   "outputs": [
    {
     "name": "stdout",
     "output_type": "stream",
     "text": [
      "pred_labels_pos:\t[0 1 1 0 1 0 0]\n",
      "true_labels_neg:\t[1 1 0 1 1 0 1]\n",
      "    AND operation\t-------\n",
      "pred_pos_AND_true_neg:\t[0 1 0 0 1 0 0]\n",
      "FP:  2\n"
     ]
    }
   ],
   "source": [
    "# Now let's look at how to compute False positives (FP).\n",
    "# FP = we predicted a label of 1, but the true label is 0.\n",
    "\n",
    "# We already figured out all the cases where we predicted a positive label.\n",
    "print 'pred_labels_pos:\\t', pred_labels_pos \n",
    "\n",
    "# Get all the cases where the true labels are negative (i.e.,0)\n",
    "true_labels_neg = true_labels == 0\n",
    "true_labels_neg = true_labels_neg.astype(np.int)\n",
    "print 'true_labels_neg:\\t', true_labels_neg\n",
    "\n",
    "print '    AND operation\\t-------'\n",
    "\n",
    "# To get cases where the pred_labels are positive and the true_labels are negative.\n",
    "# Again we use the logical AND operation.\n",
    "pred_pos_AND_true_neg = np.logical_and(pred_labels_pos, true_labels_neg)\n",
    "pred_pos_AND_true_neg = pred_pos_AND_true_neg.astype(np.int)\n",
    "print 'pred_pos_AND_true_neg:\\t', pred_pos_AND_true_neg\n",
    "\n",
    "# We now have indicated all the false positives with a 1. \n",
    "# To compute the number of false positives, we can just sum over the array.\n",
    "FP = np.sum(pred_pos_AND_true_neg)\n",
    "print 'FP: ', FP "
   ]
  },
  {
   "cell_type": "code",
   "execution_count": 67,
   "metadata": {
    "collapsed": false
   },
   "outputs": [
    {
     "name": "stdout",
     "output_type": "stream",
     "text": [
      "pred_labels_neg:\t[1 0 0 1 0 1 1]\n",
      "true_labels_neg:\t[1 1 0 1 1 0 1]\n",
      "    AND operation\t-------\n",
      "pred_neg_AND_true_neg:\t[1 0 0 1 0 0 1]\n",
      "TN:  3\n"
     ]
    }
   ],
   "source": [
    "# Okay, now what about True Negatives? \n",
    "# TN = we predicted a label of 0, and the true label is 0.\n",
    "\n",
    "pred_labels_neg = pred_labels == 0\n",
    "pred_labels_neg = pred_labels_neg.astype(np.int)\n",
    "print 'pred_labels_neg:\\t', pred_labels_neg\n",
    "\n",
    "# We already computed when the true labels are negative (0).\n",
    "print 'true_labels_neg:\\t', true_labels_neg\n",
    "\n",
    "# Again we use the logical AND operation.\n",
    "print '    AND operation\\t-------'\n",
    "pred_neg_AND_true_neg = np.logical_and(pred_labels_neg, true_labels_neg)\n",
    "pred_neg_AND_true_neg = pred_neg_AND_true_neg.astype(np.int)\n",
    "print 'pred_neg_AND_true_neg:\\t', pred_neg_AND_true_neg\n",
    "\n",
    "# Again, sum to count how many true negatives we have.\n",
    "TN = np.sum(pred_neg_AND_true_neg)\n",
    "print 'TN: ', TN"
   ]
  },
  {
   "cell_type": "code",
   "execution_count": 68,
   "metadata": {
    "collapsed": false
   },
   "outputs": [
    {
     "name": "stdout",
     "output_type": "stream",
     "text": [
      "pred_labels_neg:\t[1 0 0 1 0 1 1]\n",
      "true_labels_pos:\t[0 0 1 0 0 1 0]\n",
      "    AND operation\t-------\n",
      "pred_neg_AND_true_pos:\t[0 0 0 0 0 1 0]\n",
      "FN:  1\n"
     ]
    }
   ],
   "source": [
    "# Finally, let's compute False Negatives.\n",
    "# FN = we predict 0, but the true label is 1.\n",
    "\n",
    "# Already computed when the predicted labels are negative.\n",
    "print 'pred_labels_neg:\\t', pred_labels_neg\n",
    "\n",
    "# Already computed when the true labels are positive (1).\n",
    "print 'true_labels_pos:\\t', true_labels_pos\n",
    "\n",
    "# Use logical AND.\n",
    "print '    AND operation\\t-------'\n",
    "pred_neg_AND_true_pos = np.logical_and(pred_labels_neg, true_labels_pos)\n",
    "pred_neg_AND_true_pos = pred_neg_AND_true_pos.astype(np.int)\n",
    "print 'pred_neg_AND_true_pos:\\t', pred_neg_AND_true_pos\n",
    "\n",
    "# Again, sum to count how many true negatives we have.\n",
    "FN = np.sum(pred_neg_AND_true_pos)\n",
    "print 'FN: ', FN"
   ]
  },
  {
   "cell_type": "markdown",
   "metadata": {},
   "source": [
    "... and we are done!"
   ]
  }
 ],
 "metadata": {
  "interpreter": {
   "hash": "0cafbc790410691ed53995d0d1708109b629c1b24c7fe02c81a0e1e4709bb15e"
  },
  "kernelspec": {
   "display_name": "Python 2",
   "language": "python",
   "name": "python3"
  },
  "language_info": {
   "codemirror_mode": {
    "name": "ipython",
    "version": 2
   },
   "file_extension": ".py",
   "mimetype": "text/x-python",
   "name": "python",
   "nbconvert_exporter": "python",
   "pygments_lexer": "ipython2",
   "version": "3.9.7"
  }
 },
 "nbformat": 4,
 "nbformat_minor": 0
}
