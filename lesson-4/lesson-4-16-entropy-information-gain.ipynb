{
 "cells": [
  {
   "cell_type": "code",
   "execution_count": 5,
   "metadata": {},
   "outputs": [],
   "source": [
    "import pandas as pd\n",
    "import numpy as np"
   ]
  },
  {
   "cell_type": "markdown",
   "metadata": {},
   "source": [
    "For the following quiz, consider the data found in this file, consisting of twenty-four made-up insects measured on their length and color.\n",
    "Which of the following splitting criteria provides the most information gain for discriminating Mobugs from Lobugs?\n",
    "* Color = Brown\n",
    "* Color = Blue\n",
    "* Color = Green\n",
    "* Length < 17.0 mm\n",
    "* Length < 20.0 mm"
   ]
  },
  {
   "cell_type": "code",
   "execution_count": 6,
   "metadata": {},
   "outputs": [
    {
     "data": {
      "text/html": [
       "<div>\n",
       "<style scoped>\n",
       "    .dataframe tbody tr th:only-of-type {\n",
       "        vertical-align: middle;\n",
       "    }\n",
       "\n",
       "    .dataframe tbody tr th {\n",
       "        vertical-align: top;\n",
       "    }\n",
       "\n",
       "    .dataframe thead th {\n",
       "        text-align: right;\n",
       "    }\n",
       "</style>\n",
       "<table border=\"1\" class=\"dataframe\">\n",
       "  <thead>\n",
       "    <tr style=\"text-align: right;\">\n",
       "      <th></th>\n",
       "      <th>Species</th>\n",
       "      <th>Color</th>\n",
       "      <th>Length (mm)</th>\n",
       "    </tr>\n",
       "  </thead>\n",
       "  <tbody>\n",
       "    <tr>\n",
       "      <th>0</th>\n",
       "      <td>Mobug</td>\n",
       "      <td>Brown</td>\n",
       "      <td>11.6</td>\n",
       "    </tr>\n",
       "    <tr>\n",
       "      <th>1</th>\n",
       "      <td>Mobug</td>\n",
       "      <td>Blue</td>\n",
       "      <td>16.3</td>\n",
       "    </tr>\n",
       "    <tr>\n",
       "      <th>2</th>\n",
       "      <td>Lobug</td>\n",
       "      <td>Blue</td>\n",
       "      <td>15.1</td>\n",
       "    </tr>\n",
       "    <tr>\n",
       "      <th>3</th>\n",
       "      <td>Lobug</td>\n",
       "      <td>Green</td>\n",
       "      <td>23.7</td>\n",
       "    </tr>\n",
       "    <tr>\n",
       "      <th>4</th>\n",
       "      <td>Lobug</td>\n",
       "      <td>Blue</td>\n",
       "      <td>18.4</td>\n",
       "    </tr>\n",
       "  </tbody>\n",
       "</table>\n",
       "</div>"
      ],
      "text/plain": [
       "  Species  Color  Length (mm)\n",
       "0   Mobug  Brown         11.6\n",
       "1   Mobug   Blue         16.3\n",
       "2   Lobug   Blue         15.1\n",
       "3   Lobug  Green         23.7\n",
       "4   Lobug   Blue         18.4"
      ]
     },
     "execution_count": 6,
     "metadata": {},
     "output_type": "execute_result"
    }
   ],
   "source": [
    "bugs = pd.read_csv(\"ml-bugs.csv\")\n",
    "bugs.head()"
   ]
  },
  {
   "cell_type": "markdown",
   "metadata": {},
   "source": [
    "### Function to calculate entropy from group of two elements"
   ]
  },
  {
   "cell_type": "code",
   "execution_count": 33,
   "metadata": {},
   "outputs": [],
   "source": [
    "def twoGroupEntropy(first, total):\n",
    "    return -(first / total * np.log2(first / total) +\n",
    "        (total - first) / total * np.log2((total - first) / total))"
   ]
  },
  {
   "cell_type": "markdown",
   "metadata": {},
   "source": [
    "### Function to calculate entropy from child groups (e.g. after split on feature)"
   ]
  },
  {
   "cell_type": "code",
   "execution_count": 34,
   "metadata": {},
   "outputs": [],
   "source": [
    "def childEntropy(bugs_child1, bugs_child2, total_bugs):\n",
    "    return sum(bugs_child1)/total_bugs * twoGroupEntropy(bugs_child1[0], sum(bugs_child1)) \\\n",
    "        + sum(bugs_child2)/total_bugs * twoGroupEntropy(bugs_child2[0], sum(bugs_child2))"
   ]
  },
  {
   "cell_type": "markdown",
   "metadata": {},
   "source": [
    "### Initial entropy of the two different bug species group"
   ]
  },
  {
   "cell_type": "code",
   "execution_count": 40,
   "metadata": {},
   "outputs": [
    {
     "data": {
      "text/plain": [
       "0.9798687566511528"
      ]
     },
     "execution_count": 40,
     "metadata": {},
     "output_type": "execute_result"
    }
   ],
   "source": [
    "bug_species = bugs[\"Species\"].value_counts()\n",
    "total_bugs = sum(bug_species)\n",
    "\n",
    "initial_ent = twoGroupEntropy(bug_species[0], total_bugs)\n",
    "initial_ent"
   ]
  },
  {
   "cell_type": "markdown",
   "metadata": {},
   "source": [
    "### Split on Color: Brown"
   ]
  },
  {
   "cell_type": "code",
   "execution_count": 48,
   "metadata": {},
   "outputs": [
    {
     "data": {
      "text/plain": [
       "0.06157292259666325"
      ]
     },
     "execution_count": 48,
     "metadata": {},
     "output_type": "execute_result"
    }
   ],
   "source": [
    "bugs_brown = bugs[bugs['Color'] == 'Brown']['Species'].value_counts()\n",
    "bugs_not_brown = bugs[bugs['Color'] != 'Brown']['Species'].value_counts()\n",
    "child_ent = childEntropy(bugs_brown, bugs_not_brown, total_bugs)\n",
    "gain_ent = initial_ent - child_ent\n",
    "\n",
    "gain_ent"
   ]
  },
  {
   "cell_type": "markdown",
   "metadata": {},
   "source": [
    "### Split on Color: Blue"
   ]
  },
  {
   "cell_type": "code",
   "execution_count": 47,
   "metadata": {},
   "outputs": [
    {
     "data": {
      "text/plain": [
       "0.000589596275060833"
      ]
     },
     "execution_count": 47,
     "metadata": {},
     "output_type": "execute_result"
    }
   ],
   "source": [
    "bugs_blue = bugs[bugs['Color'] == 'Blue']['Species'].value_counts()\n",
    "bugs_not_blue = bugs[bugs['Color'] != 'Blue']['Species'].value_counts()\n",
    "child_ent = childEntropy(bugs_blue, bugs_not_blue, total_bugs)\n",
    "gain_ent = initial_ent - child_ent\n",
    "\n",
    "gain_ent"
   ]
  },
  {
   "cell_type": "markdown",
   "metadata": {},
   "source": [
    "### Split on Color: Green"
   ]
  },
  {
   "cell_type": "code",
   "execution_count": 44,
   "metadata": {},
   "outputs": [
    {
     "data": {
      "text/plain": [
       "0.042776048498108565"
      ]
     },
     "execution_count": 44,
     "metadata": {},
     "output_type": "execute_result"
    }
   ],
   "source": [
    "bugs_green = bugs[bugs['Color'] == 'Green']['Species'].value_counts()\n",
    "bugs_not_green = bugs[bugs['Color'] != 'Green']['Species'].value_counts()\n",
    "child_ent = childEntropy(bugs_green, bugs_not_green, total_bugs)\n",
    "gain_ent = initial_ent - child_ent\n",
    "\n",
    "gain_ent"
   ]
  },
  {
   "cell_type": "markdown",
   "metadata": {},
   "source": [
    "### Split on Length: >17.0 mm"
   ]
  },
  {
   "cell_type": "code",
   "execution_count": 55,
   "metadata": {},
   "outputs": [
    {
     "data": {
      "text/plain": [
       "0.11260735516748976"
      ]
     },
     "execution_count": 55,
     "metadata": {},
     "output_type": "execute_result"
    }
   ],
   "source": [
    "bugs_l17 = bugs[bugs['Length (mm)'] > 17]['Species'].value_counts()\n",
    "bugs_not_l17 = bugs[bugs['Length (mm)'] <= 17]['Species'].value_counts()\n",
    "child_ent = childEntropy(bugs_l17, bugs_not_l17, total_bugs)\n",
    "gain_ent = initial_ent - child_ent\n",
    "\n",
    "gain_ent"
   ]
  },
  {
   "cell_type": "markdown",
   "metadata": {},
   "source": [
    "### Split on Length: >20.0 mm"
   ]
  },
  {
   "cell_type": "code",
   "execution_count": 56,
   "metadata": {},
   "outputs": [
    {
     "data": {
      "text/plain": [
       "0.10073322588651723"
      ]
     },
     "execution_count": 56,
     "metadata": {},
     "output_type": "execute_result"
    }
   ],
   "source": [
    "bugs_l17 = bugs[bugs['Length (mm)'] > 20]['Species'].value_counts()\n",
    "bugs_not_l17 = bugs[bugs['Length (mm)'] <= 20]['Species'].value_counts()\n",
    "child_ent = childEntropy(bugs_l17, bugs_not_l17, total_bugs)\n",
    "gain_ent = initial_ent - child_ent\n",
    "\n",
    "gain_ent\n"
   ]
  }
 ],
 "metadata": {
  "interpreter": {
   "hash": "ac16d624366214e9a49e46395e2ed76ea7af434140f5a5d35df51fe8ed969f4a"
  },
  "kernelspec": {
   "display_name": "Python 3.9.7 64-bit ('datasci': conda)",
   "language": "python",
   "name": "python3"
  },
  "language_info": {
   "codemirror_mode": {
    "name": "ipython",
    "version": 3
   },
   "file_extension": ".py",
   "mimetype": "text/x-python",
   "name": "python",
   "nbconvert_exporter": "python",
   "pygments_lexer": "ipython3",
   "version": "3.9.7"
  },
  "orig_nbformat": 4
 },
 "nbformat": 4,
 "nbformat_minor": 2
}
